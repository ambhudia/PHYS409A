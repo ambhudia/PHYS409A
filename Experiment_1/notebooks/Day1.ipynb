{
 "cells": [
  {
   "cell_type": "markdown",
   "id": "b20cd62e",
   "metadata": {},
   "source": [
    "# 13/09/2021 "
   ]
  },
  {
   "cell_type": "markdown",
   "id": "c871ae6a",
   "metadata": {},
   "source": [
    "## Familiarisation with equipment, theory and experimental procedure\n",
    "___"
   ]
  },
  {
   "cell_type": "markdown",
   "id": "8cd1d9de",
   "metadata": {},
   "source": [
    "### Plan\n",
    "\n",
    "* Study experimental setup and relate to circuit diagrams in manual\n",
    "* Create diagrams of the above\n"
   ]
  },
  {
   "cell_type": "markdown",
   "id": "6310ba86",
   "metadata": {},
   "source": [
    "Experimental Setup"
   ]
  },
  {
   "cell_type": "markdown",
   "id": "48777815",
   "metadata": {},
   "source": [
    "<img src=\"../images/Day1/setup.jpg\" alt=\"Experimental Setup\" style=\"height: 400px\"/>"
   ]
  },
  {
   "cell_type": "markdown",
   "id": "a192eeba",
   "metadata": {},
   "source": [
    "Closeups of apparatus in quartz test tube, circuit diagram of 4-wire diode thermometer"
   ]
  },
  {
   "cell_type": "markdown",
   "id": "6a770ff0",
   "metadata": {},
   "source": [
    "<img src=\"../images/Day1/closeup.jpg\" alt=\"Experimental Setup\" style=\"height: 400px\"/>"
   ]
  },
  {
   "cell_type": "markdown",
   "id": "a8115bcd",
   "metadata": {},
   "source": []
  }
 ],
 "metadata": {
  "kernelspec": {
   "display_name": "Python 3",
   "language": "python",
   "name": "python3"
  },
  "language_info": {
   "codemirror_mode": {
    "name": "ipython",
    "version": 3
   },
   "file_extension": ".py",
   "mimetype": "text/x-python",
   "name": "python",
   "nbconvert_exporter": "python",
   "pygments_lexer": "ipython3",
   "version": "3.8.1"
  }
 },
 "nbformat": 4,
 "nbformat_minor": 5
}
